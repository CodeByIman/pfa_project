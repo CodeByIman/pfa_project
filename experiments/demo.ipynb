{
  "cells": [
    {
      "cell_type": "raw",
      "metadata": {
        "vscode": {
          "languageId": "raw"
        }
      },
      "source": [
        "# AI Research Agent Demo\n",
        "Run the end-to-end pipeline on a sample query.\n"
      ]
    },
    {
      "cell_type": "code",
      "execution_count": null,
      "metadata": {},
      "outputs": [],
      "source": [
        "from ai_research_agent.src.core.agent.orchestrator import run_pipeline\n",
        "res = run_pipeline(\"état de l’art apprentissage profond diagnostic médical 2023\", top_k=3, max_pdfs=3)\n",
        "res['results'][:2]\n"
      ]
    }
  ],
  "metadata": {
    "language_info": {
      "name": "python"
    }
  },
  "nbformat": 4,
  "nbformat_minor": 2
}
